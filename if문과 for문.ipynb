{
 "cells": [
  {
   "cell_type": "markdown",
   "metadata": {},
   "source": [
    "# if문"
   ]
  },
  {
   "cell_type": "code",
   "execution_count": 10,
   "metadata": {},
   "outputs": [],
   "source": [
    "# 변수 자체가 True or False인 경우 \n",
    "ctr=True"
   ]
  },
  {
   "cell_type": "code",
   "execution_count": 11,
   "metadata": {},
   "outputs": [
    {
     "name": "stdout",
     "output_type": "stream",
     "text": [
      "캠페인 성과 측정 시작\n"
     ]
    }
   ],
   "source": [
    "if ctr:\n",
    "    print('캠페인 성과 측정 시작')"
   ]
  },
  {
   "cell_type": "code",
   "execution_count": 12,
   "metadata": {},
   "outputs": [
    {
     "name": "stdout",
     "output_type": "stream",
     "text": [
      "[1, 2, 3]\n"
     ]
    }
   ],
   "source": [
    "# x in s일때\n",
    "x=[1,2,3]\n",
    "if 1 in x:\n",
    "    print(x)"
   ]
  },
  {
   "cell_type": "code",
   "execution_count": 13,
   "metadata": {},
   "outputs": [
    {
     "name": "stdout",
     "output_type": "stream",
     "text": [
      "스니커즈 구매\n"
     ]
    }
   ],
   "source": [
    "#비교 연산자 및 논리연산자\n",
    "sneakers=85000\n",
    "shirts=65000\n",
    "# 스니커즈와 셔츠 가격이 둘다 6만원보다 비싸다면 나는 그냥 스니커즈를 구매할래\n",
    "if sneakers>=60000 and shirts>=60000:\n",
    "    print('스니커즈 구매')\n",
    "else : \n",
    "    print('셔츠 구매')"
   ]
  },
  {
   "cell_type": "markdown",
   "metadata": {},
   "source": [
    "# for문"
   ]
  },
  {
   "cell_type": "code",
   "execution_count": 18,
   "metadata": {},
   "outputs": [],
   "source": [
    "items=['NIKE','ADIDAS','CARHATT','POLO','DRMARTENS','NEW_BALANCE','VANS']"
   ]
  },
  {
   "cell_type": "code",
   "execution_count": 20,
   "metadata": {},
   "outputs": [
    {
     "name": "stdout",
     "output_type": "stream",
     "text": [
      "NIKE\n",
      "ADIDAS\n",
      "CARHATT\n",
      "POLO\n",
      "DRMARTENS\n"
     ]
    }
   ],
   "source": [
    "#편집샵 - 전체 중 5개 아이템 출력\n",
    "for num in range(0,5):\n",
    "    print(items[num])"
   ]
  },
  {
   "cell_type": "code",
   "execution_count": 21,
   "metadata": {},
   "outputs": [
    {
     "data": {
      "text/plain": [
       "['NIKE', 'ADIDAS', 'CARHATT', 'POLO', 'DRMARTENS']"
      ]
     },
     "execution_count": 21,
     "metadata": {},
     "output_type": "execute_result"
    }
   ],
   "source": [
    "#편집샵 - 전체 중 5개 아이템 출력\n",
    "#5개 아이템을 새로운 리스트에 담아(변수로 만들어) 출력\n",
    "newitems=[]\n",
    "for num in range(0,5):    \n",
    "    newitems.append(items[num])\n",
    "newitems"
   ]
  },
  {
   "cell_type": "code",
   "execution_count": 22,
   "metadata": {},
   "outputs": [
    {
     "data": {
      "text/plain": [
       "['NIKE', 'ADIDAS', 'CARHATT', 'POLO', 'DRMARTENS', 'NEW_BALANCE', 'VANS']"
      ]
     },
     "execution_count": 22,
     "metadata": {},
     "output_type": "execute_result"
    }
   ],
   "source": [
    "#편집샵 - 모든 아이템을 새로운 리스트에 담아 출력\n",
    "#전체를 담기위한 len함수\n",
    "newitems2=[]\n",
    "for num in range(0,len(items)):    \n",
    "    newitems2.append(items[num])\n",
    "newitems2"
   ]
  },
  {
   "cell_type": "code",
   "execution_count": 23,
   "metadata": {},
   "outputs": [
    {
     "name": "stdout",
     "output_type": "stream",
     "text": [
      "왕창 세일!!\n"
     ]
    },
    {
     "data": {
      "text/plain": [
       "{'ADIDAS': 10000,\n",
       " 'CARHATT': 10000,\n",
       " 'DRMARTENS': 10000,\n",
       " 'NEW_BALANCE': 10000,\n",
       " 'NIKE': 10000,\n",
       " 'POLO': 10000,\n",
       " 'VANS': 10000}"
      ]
     },
     "execution_count": 23,
     "metadata": {},
     "output_type": "execute_result"
    }
   ],
   "source": [
    "#블랙프라이데이맞이 10,000원샵 운영\n",
    "sale_items={}\n",
    "for item in items:        \n",
    "    sale_items[item]=10000\n",
    "print('왕창 세일!!')    \n",
    "sale_items"
   ]
  },
  {
   "cell_type": "code",
   "execution_count": 47,
   "metadata": {},
   "outputs": [],
   "source": [
    "#아이템을 이름별로 정렬\n",
    "#2,000원씩 상향하여 판매\n",
    "items=['NIKE','ADIDAS','CARHATT','POLO','DRMARTENS','NEW_BALANCE','VANS']\n",
    "sale_items2={}\n",
    "price=10000"
   ]
  },
  {
   "cell_type": "code",
   "execution_count": 48,
   "metadata": {},
   "outputs": [
    {
     "data": {
      "text/plain": [
       "['NIKE', 'ADIDAS', 'CARHATT', 'POLO', 'DRMARTENS', 'NEW_BALANCE', 'VANS']"
      ]
     },
     "execution_count": 48,
     "metadata": {},
     "output_type": "execute_result"
    }
   ],
   "source": [
    "items"
   ]
  },
  {
   "cell_type": "code",
   "execution_count": 49,
   "metadata": {},
   "outputs": [
    {
     "data": {
      "text/plain": [
       "['ADIDAS', 'CARHATT', 'DRMARTENS', 'NEW_BALANCE', 'NIKE', 'POLO', 'VANS']"
      ]
     },
     "execution_count": 49,
     "metadata": {},
     "output_type": "execute_result"
    }
   ],
   "source": [
    "items.sort()\n",
    "items"
   ]
  },
  {
   "cell_type": "code",
   "execution_count": 50,
   "metadata": {},
   "outputs": [
    {
     "data": {
      "text/plain": [
       "{'ADIDAS': 10000,\n",
       " 'CARHATT': 12000,\n",
       " 'DRMARTENS': 14000,\n",
       " 'NEW_BALANCE': 16000,\n",
       " 'NIKE': 18000,\n",
       " 'POLO': 20000,\n",
       " 'VANS': 22000}"
      ]
     },
     "execution_count": 50,
     "metadata": {},
     "output_type": "execute_result"
    }
   ],
   "source": [
    "for item in items:\n",
    "    sale_items2[item]=price\n",
    "    price=price+2000\n",
    "sale_items2"
   ]
  },
  {
   "cell_type": "code",
   "execution_count": 52,
   "metadata": {},
   "outputs": [
    {
     "data": {
      "text/plain": [
       "{'ADIDAS': 10000,\n",
       " 'CARHATT': 12000,\n",
       " 'DRMARTENS': 14000,\n",
       " 'NEW_BALANCE': 16000,\n",
       " 'NIKE': 18000}"
      ]
     },
     "execution_count": 52,
     "metadata": {},
     "output_type": "execute_result"
    }
   ],
   "source": [
    "#20,000원 이하 제품 제외\n",
    "items=['NIKE','ADIDAS','CARHATT','POLO','DRMARTENS','NEW_BALANCE','VANS']\n",
    "sale_items2={}\n",
    "sale_items3={}\n",
    "price=10000\n",
    "items.sort()\n",
    "for item in items:    \n",
    "    sale_items2[item]=price\n",
    "    price=price+2000\n",
    "\n",
    "for brand, price in sale_items2.items():\n",
    "    if price<20000:\n",
    "        sale_items3[brand]=price\n",
    "sale_items3"
   ]
  },
  {
   "cell_type": "code",
   "execution_count": 53,
   "metadata": {},
   "outputs": [
    {
     "name": "stdout",
     "output_type": "stream",
     "text": [
      "200000\n",
      "276000\n",
      "210000\n",
      "448000\n",
      "540000\n",
      "total : 1674000\n"
     ]
    }
   ],
   "source": [
    "#세일 후 매출계산\n",
    "#판매량 : 아디다스 20개, 칼하트 23개, 닥터마틴 15개, 뉴발란스 28개, 나이키 30개\n",
    "\n",
    "count=[20,23,15,28,30]\n",
    "cnt=0\n",
    "total=[]\n",
    "for key in sale_items3:    \n",
    "    print(sale_items3.get(key)*count[cnt])\n",
    "    total.append(sale_items3.get(key)*count[cnt])\n",
    "    cnt=cnt+1\n",
    "print(\"total :\", sum(total))"
   ]
  }
 ],
 "metadata": {
  "kernelspec": {
   "display_name": "Python 3",
   "language": "python",
   "name": "python3"
  },
  "language_info": {
   "codemirror_mode": {
    "name": "ipython",
    "version": 3
   },
   "file_extension": ".py",
   "mimetype": "text/x-python",
   "name": "python",
   "nbconvert_exporter": "python",
   "pygments_lexer": "ipython3",
   "version": "3.6.4"
  }
 },
 "nbformat": 4,
 "nbformat_minor": 2
}
